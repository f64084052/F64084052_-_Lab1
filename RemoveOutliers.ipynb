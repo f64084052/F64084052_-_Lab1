{
 "cells": [
  {
   "cell_type": "code",
   "execution_count": 13,
   "id": "410cbca1-8505-4d79-a405-6035724bf817",
   "metadata": {},
   "outputs": [
    {
     "name": "stdin",
     "output_type": "stream",
     "text": [
      "Enter the number of smallest and largest values to remove: 2\n",
      "Enter a value(q or Q to quit) 1\n",
      "Enter an integer(Q or q to quit): 2\n",
      "Enter an integer(Q or q to quit): 3\n",
      "Enter an integer(Q or q to quit): 4\n",
      "Enter an integer(Q or q to quit): 5\n",
      "Enter an integer(Q or q to quit): q\n"
     ]
    },
    {
     "name": "stdout",
     "output_type": "stream",
     "text": [
      "The original data: [1, 2, 3, 4, 5]\n",
      "The data with the outliers removed: [3]\n",
      "The outliers: [1, 2, 4, 5]\n"
     ]
    }
   ],
   "source": [
    "def remove_outliers(Remove,original_list):\n",
    "    outliers = []\n",
    "    if(Remove*2 < len(original_list)):  # 判斷輸入的資料數會不會太少 \n",
    "        for i in range(Remove):\n",
    "            outliers.append(original_list[0])  # 將最小的資料存下來\n",
    "            outliers.append(original_list[len(original_list)-1]) # 將最大的資料存下來\n",
    "            del original_list[0]                    # 刪除最小的資料\n",
    "            del original_list[len(original_list)-1] # 刪除最大的資料\n",
    "        outliers.sort()\n",
    "        print(\"The data with the outliers removed:\",original_list)\n",
    "        return outliers\n",
    "    else:\n",
    "        print(\"The data with the outliers removed:\",[])\n",
    "        return []\n",
    "    \n",
    "Remove = int(input(\"Enter the number of smallest and largest values to remove:\"))  # Remove是排列後前後各要刪除的資料數\n",
    "num = input(\"Enter a value(q or Q to quit)\")  # num是我們輸入的資料\n",
    "original_list = []\n",
    "while(num != \"Q\" and num != \"q\"):\n",
    "    original_list += [int(num)]\n",
    "    num = input('Enter an integer(Q or q to quit):')\n",
    "print(\"The original data:\",original_list)\n",
    "original_list.sort()  # 將資料由小排到大\n",
    "print(\"The outliers:\",remove_outliers(Remove,original_list))"
   ]
  }
 ],
 "metadata": {
  "kernelspec": {
   "display_name": "Python 3",
   "language": "python",
   "name": "python3"
  },
  "language_info": {
   "codemirror_mode": {
    "name": "ipython",
    "version": 3
   },
   "file_extension": ".py",
   "mimetype": "text/x-python",
   "name": "python",
   "nbconvert_exporter": "python",
   "pygments_lexer": "ipython3",
   "version": "3.8.8"
  }
 },
 "nbformat": 4,
 "nbformat_minor": 5
}
