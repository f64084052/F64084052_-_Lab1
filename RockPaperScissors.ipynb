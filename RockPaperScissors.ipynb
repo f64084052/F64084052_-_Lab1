{
 "cells": [
  {
   "cell_type": "code",
   "execution_count": 4,
   "id": "25eb9f8c-0c30-4093-8faa-08ce29e0d57b",
   "metadata": {
    "tags": []
   },
   "outputs": [
    {
     "name": "stdout",
     "output_type": "stream",
     "text": [
      "Welcome to ROCK, PAPER, SCISSORS game!\n"
     ]
    },
    {
     "name": "stdin",
     "output_type": "stream",
     "text": [
      "Enter your move: (r)ock (p)aper (s)cissors r\n"
     ]
    },
    {
     "name": "stdout",
     "output_type": "stream",
     "text": [
      "ROCK versus...\n",
      "ROCK\n",
      "It is a tie!\n"
     ]
    },
    {
     "name": "stdin",
     "output_type": "stream",
     "text": [
      "Enter your move: (r)ock (p)aper (s)cissors r\n"
     ]
    },
    {
     "name": "stdout",
     "output_type": "stream",
     "text": [
      "ROCK versus...\n",
      "PAPER\n",
      "You lose!\n"
     ]
    },
    {
     "name": "stdin",
     "output_type": "stream",
     "text": [
      "Enter your move: (r)ock (p)aper (s)cissors r\n"
     ]
    },
    {
     "name": "stdout",
     "output_type": "stream",
     "text": [
      "ROCK versus...\n",
      "ROCK\n",
      "It is a tie!\n"
     ]
    },
    {
     "name": "stdin",
     "output_type": "stream",
     "text": [
      "Enter your move: (r)ock (p)aper (s)cissors r\n"
     ]
    },
    {
     "name": "stdout",
     "output_type": "stream",
     "text": [
      "ROCK versus...\n",
      "PAPER\n",
      "You lose!\n"
     ]
    },
    {
     "name": "stdin",
     "output_type": "stream",
     "text": [
      "Enter your move: (r)ock (p)aper (s)cissors r\n"
     ]
    },
    {
     "name": "stdout",
     "output_type": "stream",
     "text": [
      "ROCK versus...\n",
      "PAPER\n",
      "You lose!\n"
     ]
    },
    {
     "name": "stdin",
     "output_type": "stream",
     "text": [
      "Enter your move: (r)ock (p)aper (s)cissors r\n"
     ]
    },
    {
     "name": "stdout",
     "output_type": "stream",
     "text": [
      "ROCK versus...\n",
      "SCISSORS\n",
      "You win!\n",
      "You have 2 ties and 3 losses before your first win.\n"
     ]
    }
   ],
   "source": [
    "import random\n",
    "\n",
    "def you_lose(losses):\n",
    "    print(\"You lose!\")\n",
    "    return losses + 1\n",
    "    \n",
    "def you_win(win):\n",
    "    print(\"You win!\")\n",
    "    return win + 1\n",
    "\n",
    "print(\"Welcome to ROCK, PAPER, SCISSORS game!\")\n",
    "win = 0       #贏的次數\n",
    "ties = 0      #平手的次數\n",
    "losses = 0    #輸的次數\n",
    "while(win==0):\n",
    "    our_side = input(\"Enter your move: (r)ock (p)aper (s)cissors\") \n",
    "    other_side = random.choice(['r','p','s']) #隨機產生一個'r'或'p'或's'\n",
    "    if(our_side == other_side):               #平手\n",
    "        if(our_side=='r'):\n",
    "            print(\"ROCK versus...\")\n",
    "            print(\"ROCK\")\n",
    "        elif(our_side=='p'):\n",
    "            print(\"PAPER versus...\")\n",
    "            print(\"PAPER\")\n",
    "        elif(our_side=='s'):\n",
    "            print(\"SCISSORS versus...\")\n",
    "            print(\"SCISSORS\")\n",
    "        print(\"It is a tie!\")\n",
    "        ties+=1\n",
    "    elif(our_side == 'r' and other_side == 'p'): #我方出石頭,對方出布\n",
    "        print(\"ROCK versus...\")\n",
    "        print(\"PAPER\")\n",
    "        losses=you_lose(losses)\n",
    "    elif(our_side == 'p' and other_side == 's'): #我方出布,對方出剪刀\n",
    "        print(\"PAPER versus...\")\n",
    "        print(\"SCISSORS\")\n",
    "        losses=you_lose(losses)\n",
    "    elif(our_side == 's' and other_side == 'r'):\n",
    "        print(\"SCISSORS versus...\")\n",
    "        print(\"ROCK\")\n",
    "        losses=you_lose(losses)\n",
    "    elif(our_side == 'r' and other_side == 's'):\n",
    "        print(\"ROCK versus...\")\n",
    "        print(\"SCISSORS\")\n",
    "        win=you_win(win)      \n",
    "    elif(our_side == 'p' and other_side == 'r'):\n",
    "        print(\"PAPER versus...\")\n",
    "        print(\"ROCK\")\n",
    "        win=you_win(win)\n",
    "    elif(our_side == 's' and other_side == 'p'):\n",
    "        print(\"SCISSORS versus...\")\n",
    "        print(\"PAPER\")\n",
    "        win=you_win(win)\n",
    "print(\"You have\", ties ,\"ties and\", losses ,\"losses before your first win.\")"
   ]
  }
 ],
 "metadata": {
  "kernelspec": {
   "display_name": "Python 3",
   "language": "python",
   "name": "python3"
  },
  "language_info": {
   "codemirror_mode": {
    "name": "ipython",
    "version": 3
   },
   "file_extension": ".py",
   "mimetype": "text/x-python",
   "name": "python",
   "nbconvert_exporter": "python",
   "pygments_lexer": "ipython3",
   "version": "3.8.8"
  }
 },
 "nbformat": 4,
 "nbformat_minor": 5
}
