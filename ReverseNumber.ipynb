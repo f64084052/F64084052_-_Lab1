{
 "cells": [
  {
   "cell_type": "code",
   "execution_count": 1,
   "id": "d61abc89-4488-4598-8a4d-d7c77e613613",
   "metadata": {},
   "outputs": [
    {
     "name": "stdin",
     "output_type": "stream",
     "text": [
      "Enter an integer 567890\n"
     ]
    },
    {
     "name": "stdout",
     "output_type": "stream",
     "text": [
      "98765\n"
     ]
    }
   ],
   "source": [
    "# method1_不能處理0結尾的正整數\n",
    "def Reverse(num):\n",
    "    reverse_num = 0                            # 整數反轉後的結果,一開始為 0\n",
    "    while(num != 0):\n",
    "        digit = num % 10                       # 取出個位數\n",
    "        reverse_num = reverse_num * 10 + digit   \n",
    "        num = num // 10                        # 把已取出的個位數去掉\n",
    "    return reverse_num     \n",
    "    \n",
    "num = int(input(\"Enter an integer\"))\n",
    "print(Reverse(num))"
   ]
  },
  {
   "cell_type": "code",
   "execution_count": 2,
   "id": "b77be5de-8262-4a64-9820-f5e498a08ac6",
   "metadata": {},
   "outputs": [
    {
     "name": "stdin",
     "output_type": "stream",
     "text": [
      "Enter an integer 67890\n"
     ]
    },
    {
     "name": "stdout",
     "output_type": "stream",
     "text": [
      "09876"
     ]
    }
   ],
   "source": [
    "# method2_可以處理0結尾的正整數\n",
    "def Reverse_1(num_1):\n",
    "    while(num_1 != 0):\n",
    "        print(num_1 % 10,end=\"\")         # 先print第一個個位數\n",
    "        num_1 = num_1 // 10              # 把print過的數字去掉\n",
    "    \n",
    "num_1 = int(input(\"Enter an integer\"))\n",
    "Reverse_1(num_1)"
   ]
  }
 ],
 "metadata": {
  "kernelspec": {
   "display_name": "Python 3",
   "language": "python",
   "name": "python3"
  },
  "language_info": {
   "codemirror_mode": {
    "name": "ipython",
    "version": 3
   },
   "file_extension": ".py",
   "mimetype": "text/x-python",
   "name": "python",
   "nbconvert_exporter": "python",
   "pygments_lexer": "ipython3",
   "version": "3.8.8"
  }
 },
 "nbformat": 4,
 "nbformat_minor": 5
}
